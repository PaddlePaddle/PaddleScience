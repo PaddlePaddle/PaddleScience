{
 "cells": [
  {
   "cell_type": "markdown",
   "metadata": {},
   "source": [
    "# 简介\n",
    "\n",
    "本项目来源于共创计划开发性课题CAE领域的基于飞桨+DeepXDE/PaddleScience的复杂结构受力分析。深度学习擅长数据驱动，而工程结构有各种控制方程，PINN（Physics-informed Neural Network）方法利用控制方程加速深度学习神经网络收敛，甚至在无训练数据的情况下实现无监督学习。\n",
    "\n",
    "板是工程结构中常见构件，板控制方程存在高阶微分，这个问题的解决可以为后续解决复杂结构问题打下良好基础。从标准教科书中可以获得薄板小挠度理论的基本方程以及相关的边界条件表达式，教科书可参考《钱伟长，叶开沅，弹性力学，科学出版社，1956》。"
   ]
  },
  {
   "cell_type": "markdown",
   "metadata": {},
   "source": [
    "薄板小挠度理论的基本方程为：$\\frac{\\partial^4 w}{\\partial x^4}+2 \\frac{\\partial^4 w}{\\partial x^2 \\partial y^2}+\\frac{\\partial^4 w}{\\partial y^4}=\\frac{q}{D}$，其中D薄板弯曲刚度，q垂直板中面的分布载荷。"
   ]
  },
  {
   "cell_type": "markdown",
   "metadata": {},
   "source": [
    "薄板x方向长2m，y方向宽1m，板厚10mm，x方向左右两边简支，y方向上下两边自由。"
   ]
  },
  {
   "cell_type": "markdown",
   "metadata": {},
   "source": [
    "左右两边 $(x=-1 \\mid x=+1)$ 为简支边界条件, 挠度和弯矩都为 0 :\n",
    "\n",
    "$$\n",
    "(w)_{x=-1 \\mid x=+1}=0, \\quad\\left(M_x\\right)_{x=-1 \\mid x=+1}=0\n",
    "$$\n",
    "\n",
    "\n",
    "由于 $M_x=-D\\left(\\frac{\\partial^2 w}{\\partial x^2}+\\mu \\frac{\\partial^2 w}{\\partial y^2}\\right)$, 且 $\\frac{\\partial^2 w}{\\partial y^2}=0$, 所以简支边界条件用挠度表示为\n",
    "\n",
    "$$\n",
    "(w)_{x=-1 \\mid x=+1}=0, \\quad\\left(\\frac{\\partial^2 w}{\\partial x^2}\\right)_{x=-1 \\mid x=+1}=0\n",
    "$$\n",
    "\n",
    "\n",
    "上下两边 $(y=-0.5 \\mid y=+0.5)$ 为自由边界条件, 弯矩、扭矩、横向剪切力都为 0 :\n",
    "\n",
    "$$\n",
    "\\left(M_y\\right)_{\\mathrm{y}=-0.5 \\mid \\mathrm{y}=+0.5}=0, \\quad\\left(M_{x y}\\right)_{\\mathrm{y}=-0.5 \\mid \\mathrm{y}=+0.5}=0, \\quad\\left(Q_y\\right)_{\\mathrm{y}=-0.5 \\mid \\mathrm{y}=+0.5}=0\n",
    "$$\n",
    "\n",
    "\n",
    "由于 $M_y=-D\\left(\\frac{\\partial^2 w}{\\partial y^2}+\\mu \\frac{\\partial^2 w}{\\partial x^2}\\right), \\quad M_{x y}=-D(1-\\mu) \\frac{\\partial^2 w}{\\partial x \\partial y}, Q_y=-D \\frac{\\partial}{\\partial y}\\left(\\frac{\\partial^2 w}{\\partial x^2}+\\frac{\\partial^2 w}{\\partial y^2}\\right)$ ，且扭矩可以变换为等效剪力, 扭矩和横向剪力合并为 $\\left(Q_y+\\frac{\\partial M_{x y}}{\\partial x}\\right)_{\\mathrm{y}=-0.5 \\mid \\mathrm{y}=+0.5}=0$, 所以自由边界条件用挠度表示为\n",
    "\n",
    "$$\n",
    "\\left(\\frac{\\partial^2 w}{\\partial y^2}+\\mu \\frac{\\partial^2 w}{\\partial x^2}\\right)_{y=-0.5 \\mid y=+0.5}=0, \\quad\\left(\\frac{\\partial^3 w}{\\partial y^3}+(2-\\mu) \\frac{\\partial^3 w}{\\partial x^2 \\partial y}\\right)_{y=-0.5 \\mid y=+0.5}=0\n",
    "$$\n"
   ]
  },
  {
   "cell_type": "markdown",
   "metadata": {},
   "source": [
    "## 1. 设置计算域"
   ]
  },
  {
   "cell_type": "code",
   "execution_count": 1,
   "metadata": {},
   "outputs": [],
   "source": [
    "import numpy as np\n",
    "from matplotlib import pyplot as plt\n",
    "\n",
    "import ppsci\n",
    "import sympy as sp\n",
    "import numpy as np\n",
    "\n",
    "# 设置薄板计算域长、宽参数\n",
    "Lx = 2.0\n",
    "Ly = 1.0\n",
    "# 设置方程参数\n",
    "E = 210000.0e6\n",
    "mu = 0.28\n",
    "h = 0.01\n",
    "D = E * (h**3) / (12 * (1 - mu**2))\n",
    "q = 1000.0\n",
    "\n",
    "rectangle = ppsci.geometry.Rectangle([-Lx / 2, -Ly / 2], [Lx / 2, Ly / 2])"
   ]
  },
  {
   "cell_type": "markdown",
   "metadata": {},
   "source": [
    "## 2. 编写矩形薄板挠曲方程残差"
   ]
  },
  {
   "cell_type": "code",
   "execution_count": 2,
   "metadata": {},
   "outputs": [],
   "source": [
    "# 使用sympy编写\n",
    "x, y = sp.symbols(\"x y\")\n",
    "w = sp.Function(\"w\")(x, y)\n",
    "left = w.diff(x, 4) + 2 * w.diff(x, 2).diff(y, 2) + w.diff(y, 4)\n",
    "right = q / D\n",
    "res = left - right"
   ]
  },
  {
   "cell_type": "markdown",
   "metadata": {},
   "source": [
    "## 3. 初始化神经网络模型"
   ]
  },
  {
   "cell_type": "code",
   "execution_count": 3,
   "metadata": {},
   "outputs": [
    {
     "name": "stderr",
     "output_type": "stream",
     "text": [
      "W1029 15:20:08.278719 12171 gpu_resources.cc:119] Please NOTE: device: 0, GPU Compute Capability: 7.0, Driver API Version: 12.0, Runtime API Version: 11.6\n",
      "W1029 15:20:08.292644 12171 gpu_resources.cc:164] device: 0, cuDNN Version: 8.4.\n"
     ]
    }
   ],
   "source": [
    "model = ppsci.arch.MLP([\"x\", \"y\"], [\"w\"], 4, 50)"
   ]
  },
  {
   "cell_type": "markdown",
   "metadata": {},
   "source": [
    "## 4. 初始化控制方程和边界条件"
   ]
  },
  {
   "cell_type": "code",
   "execution_count": 4,
   "metadata": {},
   "outputs": [
    {
     "name": "stdout",
     "output_type": "stream",
     "text": [
      "\u001b[33m[2024/10/29 15:20:13] ppsci WARNING: Logger has already been automatically initialized as `log_file` is set to None by default, information will only be printed to terminal without writting to any file.\u001b[0m\n"
     ]
    }
   ],
   "source": [
    "\n",
    "pde_contraint = ppsci.constraint.InteriorConstraint(\n",
    "    {\"kirchhoff_res\": res},\n",
    "    {\"kirchhoff_res\": 0.0},\n",
    "    rectangle,\n",
    "    {\n",
    "        \"dataset\": \"IterableNamedArrayDataset\",\n",
    "        \"iters_per_epoch\": 1,\n",
    "        \"batch_size\": 20000,\n",
    "    },\n",
    "    loss=ppsci.loss.MSELoss(),\n",
    ")\n",
    "\n",
    "constraint_left_right = ppsci.constraint.BoundaryConstraint(\n",
    "    {\"w\": w, \"ddw_dxx\": w.diff(x, 2)},\n",
    "    {\"w\": 0.0, \"ddw_dxx\": 0.0},\n",
    "    rectangle,\n",
    "    {\n",
    "        \"dataset\": \"IterableNamedArrayDataset\",\n",
    "        \"iters_per_epoch\": 1,\n",
    "        \"batch_size\": 10000,\n",
    "    },\n",
    "    criteria=lambda x, y: np.isclose(x, -Lx / 2) | np.isclose(x, Lx / 2),\n",
    "    loss=ppsci.loss.MSELoss(),\n",
    ")\n",
    "\n",
    "constraint_up_down = ppsci.constraint.BoundaryConstraint(\n",
    "    {\n",
    "        \"shearForce\": w.diff(y, 2) + mu * w.diff(x, 2),\n",
    "        \"moment\": w.diff(y, 3) + (2 - mu) * w.diff(x, 2).diff(y),\n",
    "    },\n",
    "    {\"shearForce\": 0.0, \"moment\": 0.0},\n",
    "    rectangle,\n",
    "    {\n",
    "        \"dataset\": \"IterableNamedArrayDataset\",\n",
    "        \"iters_per_epoch\": 1,\n",
    "        \"batch_size\": 10000,\n",
    "    },\n",
    "    criteria=lambda x, y: np.isclose(y, -Ly / 2) | np.isclose(y, Ly / 2),\n",
    "    loss=ppsci.loss.MSELoss(),\n",
    ")"
   ]
  },
  {
   "cell_type": "markdown",
   "metadata": {},
   "source": [
    "## 5. 初始化求解器并开始求解"
   ]
  },
  {
   "cell_type": "code",
   "execution_count": 5,
   "metadata": {},
   "outputs": [
    {
     "name": "stdout",
     "output_type": "stream",
     "text": [
      "[2024/10/29 15:20:13] ppsci INFO: Using paddlepaddle 2.6.1 on device Place(gpu:0)\u001b[0m\n",
      "\u001b[36m[2024/10/29 15:20:13] ppsci MESSAGE: Set to_static=False for computational optimization.\u001b[0m\n",
      "[2024/10/29 15:21:12] ppsci INFO: [Train][Epoch   1/400][Iter 1/1] lr: 1.00000, loss: 0.00000, pde_contraint: 0.00000, constraint_left_right: 0.00000, constraint_up_down: 0.00000, batch_cost: 59.32593s, reader_cost: 0.00001s, ips: 674.24, eta: 6:34:31\u001b[0m\n",
      "\u001b[36m[2024/10/29 15:21:12] ppsci MESSAGE: Finish saving checkpoint to: ./output_kirchhoff/checkpoints/latest(latest checkpoint will be saved every epoch as expected, but this log will be printed only once for tidy logging)\u001b[0m\n",
      "[2024/10/29 15:21:24] ppsci INFO: [Train][Epoch  50/400][Iter 1/1] lr: 1.00000, loss: 0.00000, pde_contraint: 0.00000, constraint_left_right: 0.00000, constraint_up_down: 0.00000, batch_cost: 0.20123s, reader_cost: 0.00002s, ips: 198774.32, eta: 0:01:10\u001b[0m\n",
      "[2024/10/29 15:21:37] ppsci INFO: [Train][Epoch 100/400][Iter 1/1] lr: 1.00000, loss: 0.00000, pde_contraint: 0.00000, constraint_left_right: 0.00000, constraint_up_down: 0.00000, batch_cost: 0.20144s, reader_cost: 0.00002s, ips: 198565.45, eta: 0:01:00\u001b[0m\n",
      "[2024/10/29 15:21:48] ppsci INFO: [Train][Epoch 150/400][Iter 1/1] lr: 1.00000, loss: 0.00000, pde_contraint: 0.00000, constraint_left_right: 0.00000, constraint_up_down: 0.00000, batch_cost: 0.19647s, reader_cost: 0.00002s, ips: 203592.06, eta: 0:00:49\u001b[0m\n",
      "[2024/10/29 15:22:00] ppsci INFO: [Train][Epoch 200/400][Iter 1/1] lr: 1.00000, loss: 0.00000, pde_contraint: 0.00000, constraint_left_right: 0.00000, constraint_up_down: 0.00000, batch_cost: 0.19567s, reader_cost: 0.00002s, ips: 204424.20, eta: 0:00:39\u001b[0m\n",
      "[2024/10/29 15:22:12] ppsci INFO: [Train][Epoch 250/400][Iter 1/1] lr: 1.00000, loss: 0.00000, pde_contraint: 0.00000, constraint_left_right: 0.00000, constraint_up_down: 0.00000, batch_cost: 0.19691s, reader_cost: 0.00002s, ips: 203136.75, eta: 0:00:29\u001b[0m\n",
      "[2024/10/29 15:22:24] ppsci INFO: [Train][Epoch 300/400][Iter 1/1] lr: 1.00000, loss: 0.00000, pde_contraint: 0.00000, constraint_left_right: 0.00000, constraint_up_down: 0.00000, batch_cost: 0.19794s, reader_cost: 0.00002s, ips: 202080.46, eta: 0:00:19\u001b[0m\n",
      "[2024/10/29 15:22:36] ppsci INFO: [Train][Epoch 350/400][Iter 1/1] lr: 1.00000, loss: 0.00000, pde_contraint: 0.00000, constraint_left_right: 0.00000, constraint_up_down: 0.00000, batch_cost: 0.18974s, reader_cost: 0.00002s, ips: 210814.90, eta: 0:00:09\u001b[0m\n",
      "[2024/10/29 15:22:47] ppsci INFO: [Train][Epoch 400/400][Iter 1/1] lr: 1.00000, loss: 0.00000, pde_contraint: 0.00000, constraint_left_right: 0.00000, constraint_up_down: 0.00000, batch_cost: 0.18893s, reader_cost: 0.00002s, ips: 211720.50, eta: 0:00:00\u001b[0m\n"
     ]
    }
   ],
   "source": [
    "# set optimizer\n",
    "opt = ppsci.optimizer.LBFGS(max_iter=1000)(model)\n",
    "solver = ppsci.solver.Solver(\n",
    "    model,\n",
    "    {\n",
    "        \"pde_contraint\": pde_contraint,\n",
    "        \"constraint_left_right\": constraint_left_right,\n",
    "        \"constraint_up_down\": constraint_up_down,\n",
    "    },\n",
    "    output_dir=\"./output_kirchhoff\",\n",
    "    optimizer=opt,\n",
    "    epochs=400,\n",
    "    iters_per_epoch=1,\n",
    "    log_freq=50,\n",
    "    # pretrained_model_path=\"./output_kirchhoff/checkpoints/latest\"\n",
    ")\n",
    "solver.train()"
   ]
  },
  {
   "cell_type": "markdown",
   "metadata": {},
   "source": [
    "## 6. 结果可视化"
   ]
  },
  {
   "cell_type": "code",
   "execution_count": 6,
   "metadata": {},
   "outputs": [
    {
     "name": "stdout",
     "output_type": "stream",
     "text": [
      "num_cords = 10201\n",
      "(10201,) (10201,) (10201, 1)\n"
     ]
    },
    {
     "data": {
      "image/png": "[encoded data removed]",
      "text/plain": [
       "<Figure size 500x400 with 2 Axes>"
      ]
     },
     "metadata": {},
     "output_type": "display_data"
    }
   ],
   "source": [
    "# plot result\n",
    "num_cord0 = 101\n",
    "num_cord1 = 101\n",
    "num_cords = num_cord0 * num_cord1\n",
    "print(f\"num_cords = {num_cords}\")\n",
    "x, y = np.meshgrid(\n",
    "    np.linspace(\n",
    "        start=-Lx / 2, stop=Lx / 2, num=num_cord0, endpoint=True, dtype=\"float32\"\n",
    "    ),\n",
    "    np.linspace(\n",
    "        start=-Ly / 2, stop=Ly / 2, num=num_cord1, endpoint=True, dtype=\"float32\"\n",
    "    ),\n",
    ")\n",
    "x = x.ravel()\n",
    "y = y.ravel()\n",
    "# predict solution of w(x, y) on the 2D grid\n",
    "w_pred = solver.predict({\"x\": x[:, None], \"y\": y[:, None]}, return_numpy=True)[\"w\"]\n",
    "fig = plt.figure(100, figsize=(5, 4))\n",
    "y_min = w_pred.min(axis=(0,))[0]\n",
    "y_max = w_pred.max(axis=(0,))[0]\n",
    "ax1 = plt.subplot(1, 1, 1)\n",
    "plt.tricontourf(x, y, w_pred[:, 0], levels=30, cmap=\"rainbow\")\n",
    "print(x.shape, y.shape, w_pred.shape)\n",
    "cb1 = plt.colorbar()\n",
    "plt.axis(\"equal\")\n",
    "plt.xlabel(\"$x (m)$\")\n",
    "plt.ylabel(\"$y (m)$\")\n",
    "plt.title(f\"w-field: [{y_min:.6f}, {y_max:.6f}]\", fontsize=9.5)\n",
    "plt.show()\n",
    "# plt.savefig(\"./result.jpg\")\n",
    "# print(\"saved matplotlib to: ./result.jpg\")"
   ]
  },
  {
   "cell_type": "markdown",
   "metadata": {},
   "source": [
    "## 7.有限元计算结果比较\n",
    "\n",
    "通过比较，可以发现PINN方法计算结果和有限元方法计算结果完全一致。这里有限元计算所用薄板的几何参数、材料参数、载荷及边界条件和第2部分所描述薄板是一样的，有限元计算所用软件为SIPESC2022。PINN方法计算的最大挠度是12.2mm，有限元方法计算的最大挠度是12.2mm，两者的计算结果相差很小。\n",
    "<img src=\"./FEM.png\" alt=\"FEM_result\" width=\"60%\">\n"
   ]
  }
 ],
 "metadata": {
  "kernelspec": {
   "display_name": "conda_py310",
   "language": "python",
   "name": "python3"
  },
  "language_info": {
   "codemirror_mode": {
    "name": "ipython",
    "version": 3
   },
   "file_extension": ".py",
   "mimetype": "text/x-python",
   "name": "python",
   "nbconvert_exporter": "python",
   "pygments_lexer": "ipython3",
   "version": "3.9.18"
  }
 },
 "nbformat": 4,
 "nbformat_minor": 2
}
